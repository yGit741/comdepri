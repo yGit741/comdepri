{
 "cells": [
  {
   "cell_type": "markdown",
   "metadata": {},
   "source": [
    "# Libraries and Dependencies"
   ]
  },
  {
   "cell_type": "code",
   "execution_count": 3,
   "metadata": {},
   "outputs": [
    {
     "name": "stdout",
     "output_type": "stream",
     "text": [
      "Once deleted, variables cannot be recovered. Proceed (y/[n])? y\n"
     ]
    }
   ],
   "source": [
    "%reset"
   ]
  },
  {
   "cell_type": "code",
   "execution_count": 4,
   "metadata": {},
   "outputs": [],
   "source": [
    "import pandas as pd\n",
    "import numpy as np\n",
    "import matplotlib.pyplot as plt\n",
    "from ipywidgets import interact\n",
    "import random"
   ]
  },
  {
   "cell_type": "code",
   "execution_count": 5,
   "metadata": {},
   "outputs": [],
   "source": [
    "def NG(k=0.5, s=0.5, n=12,current_aspect = 1):\n",
    "    T = s**n\n",
    "    B = (s**n)+(k**n)\n",
    "    neural_gain = (T/B)*((-1)**current_aspect)\n",
    "    return neural_gain\n"
   ]
  },
  {
   "cell_type": "code",
   "execution_count": 6,
   "metadata": {},
   "outputs": [],
   "source": [
    "stim_sample = ['global','local']\n",
    "aspect = [1, 0] #0 is for global, 1 is for local"
   ]
  },
  {
   "cell_type": "code",
   "execution_count": 7,
   "metadata": {},
   "outputs": [],
   "source": [
    "#RT function\n",
    "def RT(k=0.5, global_s=0.55, local_s=0.45, n=12, upper_b=5, p_global=50, intention='global', congruent=True, max_iter=20000):\n",
    "    #print ('RT in')\n",
    "    p_local=100-p_global\n",
    "    lower_b=-upper_b\n",
    "    NG_sum = 0\n",
    "    time = 0\n",
    "\n",
    "\n",
    "    while NG_sum < upper_b and NG_sum > lower_b:\n",
    "        current_sample = random.choices(stim_sample, weights=(p_global, p_local), k=1)\n",
    "\n",
    "        #print(current_sample)\n",
    "        current_aspect = 0 if current_sample == ['global'] else 1\n",
    "        #print('aspect is', current_aspect)\n",
    "        signal = global_s if current_sample == ['global'] else local_s\n",
    "        #print('signal is', signal)\n",
    "        gain = 0\n",
    "        if congruent:\n",
    "            if intention == 'global':\n",
    "                gain = NG(k, signal, n, 0)\n",
    "                NG_sum = NG_sum + gain\n",
    "                time = time + 1\n",
    "            else:\n",
    "                gain = NG(k, signal, n, 1)\n",
    "                NG_sum = NG_sum + gain\n",
    "                time = time + 1\n",
    "        else:\n",
    "            gain = NG(k, signal, n, current_aspect)\n",
    "            NG_sum = NG_sum + gain\n",
    "            time = time + 1\n",
    "        #print(time)\n",
    "        #print(NG_sum)\n",
    "        if time > max_iter:\n",
    "            break\n",
    "\n",
    "    if NG_sum >= upper_b:\n",
    "        ans = 'global'\n",
    "    if NG_sum <= lower_b:\n",
    "        ans = 'local'\n",
    "    #print ('RT out')\n",
    "    return intention, ans, time\n"
   ]
  },
  {
   "cell_type": "code",
   "execution_count": 8,
   "metadata": {},
   "outputs": [],
   "source": [
    "def df_accuracy(N=100, global_s=0.55, local_s=0.45, n=12, p_global=50):\n",
    "    incon = np.zeros(N)\n",
    "    fcon = lambda x: RT(congruent = x, global_s=global_s, local_s=local_s, n=n, p_global=p_global)\n",
    "    ar = np.array([fcon(xi) for xi in incon])\n",
    "    df = pd.DataFrame(data=ar, columns=['intention', 'answer', 'time'])\n",
    "    df['right'] = np.where(df['intention'] == df['answer'], 1, 0)\n",
    "    df['con'] = incon\n",
    "    total = df['right'].sum()\n",
    "    return total/N\n"
   ]
  },
  {
   "cell_type": "code",
   "execution_count": 15,
   "metadata": {},
   "outputs": [],
   "source": [
    "def plot_acc_by_prob(N=100, min=0, max=61, step = 1, global_s=0.55, local_s=0.45, n=12):\n",
    "    prob_range = np.array(range(min,max,step))\n",
    "    acc_by_prob = lambda y: df_accuracy(N=N, p_global=y, global_s=global_s, local_s=local_s, n=n)\n",
    "    ar2 = np.array([acc_by_prob(yi) for yi in prob_range])\n",
    "    plt.scatter(prob_range, ar2)\n",
    "    plt.title('Accuracy by Probability')\n",
    "    plt.xlabel('probability')\n",
    "    plt.ylabel('accuracy')\n",
    "    return plt.show()"
   ]
  },
  {
   "cell_type": "code",
   "execution_count": 16,
   "metadata": {},
   "outputs": [
    {
     "data": {
      "application/vnd.jupyter.widget-view+json": {
       "model_id": "a07d9b2f4c264adeb89aabd083920519",
       "version_major": 2,
       "version_minor": 0
      },
      "text/plain": [
       "interactive(children=(IntSlider(value=100, description='N', max=300, min=-100), IntSlider(value=0, description…"
      ]
     },
     "metadata": {},
     "output_type": "display_data"
    },
    {
     "name": "stdout",
     "output_type": "stream",
     "text": [
      "<function plot_acc_by_prob at 0x000002355AAD9310>\n"
     ]
    }
   ],
   "source": [
    "_=interact(plot_acc_by_prob, n=(1.,15,1.), global_s =(0,1.,0.02), local_s=(0,1.,0.02))\n",
    "print(_)\n"
   ]
  }
 ],
 "metadata": {
  "kernelspec": {
   "display_name": "Python 3",
   "language": "python",
   "name": "python3"
  },
  "language_info": {
   "codemirror_mode": {
    "name": "ipython",
    "version": 3
   },
   "file_extension": ".py",
   "mimetype": "text/x-python",
   "name": "python",
   "nbconvert_exporter": "python",
   "pygments_lexer": "ipython3",
   "version": "3.8.5"
  }
 },
 "nbformat": 4,
 "nbformat_minor": 5
}
